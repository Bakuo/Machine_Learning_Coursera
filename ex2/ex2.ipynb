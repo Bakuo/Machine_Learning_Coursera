{
 "cells": [
  {
   "cell_type": "markdown",
   "metadata": {},
   "source": [
    "# Exercise 2 : Logistic Regression"
   ]
  },
  {
   "cell_type": "code",
   "execution_count": 154,
   "metadata": {
    "collapsed": true
   },
   "outputs": [],
   "source": [
    "import numpy as np\n",
    "import pandas as pd\n",
    "import matplotlib.pyplot as plt\n",
    "import scipy"
   ]
  },
  {
   "cell_type": "code",
   "execution_count": 88,
   "metadata": {
    "collapsed": false
   },
   "outputs": [],
   "source": [
    "data = pd.read_csv(\"ex2data1.txt\", header=None, names=[\"exam1\", \"exam2\", \"admResult\"])"
   ]
  },
  {
   "cell_type": "markdown",
   "metadata": {},
   "source": [
    "## Visualization of Data"
   ]
  },
  {
   "cell_type": "code",
   "execution_count": 27,
   "metadata": {
    "collapsed": false
   },
   "outputs": [
    {
     "data": {
      "image/png": "[encoded data removed]",
      "text/plain": [
       "<matplotlib.figure.Figure at 0x1082ceeb8>"
      ]
     },
     "metadata": {},
     "output_type": "display_data"
    }
   ],
   "source": [
    "pos = data[data[\"admResult\"]==1]\n",
    "neg = data[data[\"admResult\"]==0]\n",
    "plt.scatter(pos[\"exam1\"], pos[\"exam2\"], marker='+', s=50)\n",
    "plt.scatter(neg[\"exam1\"], neg[\"exam2\"], c='yellow', marker='o', s=50)\n",
    "plt.xlabel(\"exam1\")\n",
    "plt.ylabel(\"exam2\")\n",
    "plt.show()"
   ]
  },
  {
   "cell_type": "markdown",
   "metadata": {},
   "source": [
    "## Sigmoid function"
   ]
  },
  {
   "cell_type": "code",
   "execution_count": 44,
   "metadata": {
    "collapsed": true
   },
   "outputs": [],
   "source": [
    "def sigmoid(z):\n",
    "    return 1 / (1+np.exp(-z))"
   ]
  },
  {
   "cell_type": "markdown",
   "metadata": {},
   "source": [
    "## Cost Function"
   ]
  },
  {
   "cell_type": "code",
   "execution_count": 536,
   "metadata": {
    "collapsed": true
   },
   "outputs": [],
   "source": [
    "X = np.array( data.iloc[:, 0:2] )\n",
    "y = np.array(data.iloc[:, 2])\n",
    "X = np.append(np.ones((len(X),1)), X, 1)\n",
    "m, n = X.shape"
   ]
  },
  {
   "cell_type": "code",
   "execution_count": 574,
   "metadata": {
    "collapsed": true
   },
   "outputs": [],
   "source": [
    "def costFunction(X, y, theta):\n",
    "    m = len(y)\n",
    "    J = (-y.transpose().dot( np.log( sigmoid(X.dot(theta)) ) ) - (1-y).transpose().dot(np.log( 1- sigmoid(X.dot(theta)) ) ) ) / m\n",
    "    grad = ((sigmoid(X.dot(theta)) - y).transpose().dot(X) )/ m\n",
    "    return [J, grad]"
   ]
  },
  {
   "cell_type": "code",
   "execution_count": 575,
   "metadata": {
    "collapsed": false
   },
   "outputs": [
    {
     "data": {
      "text/plain": [
       "[0.69314718055994529, array([ -0.1       , -12.00921659, -11.26284221])]"
      ]
     },
     "execution_count": 575,
     "metadata": {},
     "output_type": "execute_result"
    }
   ],
   "source": [
    "theta = np.zeros(n)\n",
    "costFunction(X, y, theta)"
   ]
  },
  {
   "cell_type": "markdown",
   "metadata": {},
   "source": [
    "## Optimization with Scipy function"
   ]
  },
  {
   "cell_type": "code",
   "execution_count": 353,
   "metadata": {
    "collapsed": true
   },
   "outputs": [],
   "source": [
    "def computeGrad(theta):\n",
    "    global X\n",
    "    global y\n",
    "    J, grad = costFunction(X, y, theta)\n",
    "    return grad"
   ]
  },
  {
   "cell_type": "code",
   "execution_count": 359,
   "metadata": {
    "collapsed": false
   },
   "outputs": [],
   "source": [
    "def computeCost(theta):\n",
    "    global X\n",
    "    global y\n",
    "    J, grad = costFunction(X, y, theta)\n",
    "    #print('theta: ', theta, end=' ')\n",
    "    #print('J: ', J, end=' ')\n",
    "    #print('grad: ', grad)\n",
    "    return J"
   ]
  },
  {
   "cell_type": "code",
   "execution_count": 576,
   "metadata": {
    "collapsed": false,
    "scrolled": false
   },
   "outputs": [
    {
     "name": "stdout",
     "output_type": "stream",
     "text": [
      "Optimization terminated successfully.\n",
      "         Current function value: 0.203498\n",
      "         Iterations: 157\n",
      "         Function evaluations: 287\n"
     ]
    }
   ],
   "source": [
    "initialTheta = np.zeros(3)\n",
    "# Getting warning with BFGS \n",
    "#result = scipy.optimize.minimize(computeCost, x0=initialTheta, method='BFGS', jac=computeGrad,options={'gtol': 1e-7, 'disp': True})\n",
    "result = scipy.optimize.minimize(computeCost, x0=initialTheta, method = 'Nelder-Mead', options={'disp': True})"
   ]
  },
  {
   "cell_type": "code",
   "execution_count": 577,
   "metadata": {
    "collapsed": false,
    "scrolled": true
   },
   "outputs": [],
   "source": [
    "thetaOpt = result['x']"
   ]
  },
  {
   "cell_type": "code",
   "execution_count": 578,
   "metadata": {
    "collapsed": false
   },
   "outputs": [
    {
     "data": {
      "text/plain": [
       "array([-25.16130062,   0.20623142,   0.20147143])"
      ]
     },
     "execution_count": 578,
     "metadata": {},
     "output_type": "execute_result"
    }
   ],
   "source": [
    "thetaOpt"
   ]
  },
  {
   "cell_type": "markdown",
   "metadata": {},
   "source": [
    "## Visualization"
   ]
  },
  {
   "cell_type": "code",
   "execution_count": 579,
   "metadata": {
    "collapsed": false
   },
   "outputs": [],
   "source": [
    "def plotBoundary(X, y, theta):\n",
    "    pos = X[np.where(y==1)]\n",
    "    neg = X[np.where(y==0)]\n",
    "    plt.scatter(pos[:,1], pos[:,2], marker='x')\n",
    "    plt.scatter(neg[:,1], neg[:,2], c='yellow', marker='o')\n",
    "    xPlot = np.array([min(X[:,1]), max(X[:,1])])\n",
    "    yPlot = -(theta[0] + xPlot*theta[1])/ theta[2]\n",
    "    plt.plot(xPlot, yPlot, c='red')\n",
    "    plt.xlabel('exam1')\n",
    "    plt.ylabel('exam2')\n",
    "    plt.show()"
   ]
  },
  {
   "cell_type": "code",
   "execution_count": 580,
   "metadata": {
    "collapsed": false,
    "scrolled": false
   },
   "outputs": [
    {
     "data": {
      "image/png": "[encoded data removed]",
      "text/plain": [
       "<matplotlib.figure.Figure at 0x10e3483c8>"
      ]
     },
     "metadata": {},
     "output_type": "display_data"
    }
   ],
   "source": [
    "thetaOpt = result['x']\n",
    "plotBoundary(X, y, thetaOpt)"
   ]
  },
  {
   "cell_type": "markdown",
   "metadata": {},
   "source": [
    "## Explore a little bit more with Regularization"
   ]
  },
  {
   "cell_type": "code",
   "execution_count": 555,
   "metadata": {
    "collapsed": false,
    "scrolled": true
   },
   "outputs": [],
   "source": [
    "regX = np.append(X, X[:,1:2]**2, 1)"
   ]
  },
  {
   "cell_type": "code",
   "execution_count": 597,
   "metadata": {
    "collapsed": false
   },
   "outputs": [],
   "source": [
    "def costRegFunction(X, y, theta, lamd):\n",
    "    m = len(y)\n",
    "    J = (-y.transpose().dot(np.log(sigmoid(X.dot(theta))+0.1 )) - (1-y).transpose().dot(np.log(1-sigmoid(X.dot(theta))+0.1)))/m + lamd*sum(theta[1:]**2) / (2*m)\n",
    "    grad = (sigmoid(X.dot(theta)) - y).transpose().dot(X).transpose() /m + np.append(0, theta[1:]/m) * lamd\n",
    "    return [J, grad]"
   ]
  },
  {
   "cell_type": "code",
   "execution_count": 598,
   "metadata": {
    "collapsed": false
   },
   "outputs": [],
   "source": [
    "def computeRegCost(theta):\n",
    "    global lamd\n",
    "    global regX\n",
    "    global y\n",
    "    J, grad = costRegFunction(regX, y, theta, lamd)\n",
    "    return J"
   ]
  },
  {
   "cell_type": "code",
   "execution_count": 599,
   "metadata": {
    "collapsed": false
   },
   "outputs": [],
   "source": [
    "def computeRegGrad(theta):\n",
    "    global lamd\n",
    "    global regX\n",
    "    global y\n",
    "    J, grad = costRegFunction(regX, y, theta, lamd)\n",
    "    return grad"
   ]
  },
  {
   "cell_type": "markdown",
   "metadata": {},
   "source": [
    "### Optimization : Get theta"
   ]
  },
  {
   "cell_type": "code",
   "execution_count": 600,
   "metadata": {
    "collapsed": false,
    "scrolled": true
   },
   "outputs": [
    {
     "name": "stdout",
     "output_type": "stream",
     "text": [
      "Optimization terminated successfully.\n",
      "         Current function value: -0.057486\n",
      "         Iterations: 463\n",
      "         Function evaluations: 787\n"
     ]
    }
   ],
   "source": [
    "lamd = 0.1\n",
    "initialTheta = np.zeros(regX.shape[1])\n",
    "#resultReg = scipy.optimize.minimize(computeRegCost, x0=initialTheta, method='BFGS', jac=computeRegGrad,options={'gtol': 1e-7, 'disp': True})\n",
    "resultReg = scipy.optimize.minimize(computeRegCost, x0=initialTheta, method = 'Nelder-Mead', options={'disp': True})"
   ]
  },
  {
   "cell_type": "code",
   "execution_count": 601,
   "metadata": {
    "collapsed": false
   },
   "outputs": [
    {
     "data": {
      "text/plain": [
       "array([ -2.36942409e+02,   4.36962815e+00,   1.17734894e+00,\n",
       "        -2.54315565e-02])"
      ]
     },
     "execution_count": 601,
     "metadata": {},
     "output_type": "execute_result"
    }
   ],
   "source": [
    "thetaOptReg = resultReg['x']\n",
    "thetaOptReg"
   ]
  },
  {
   "cell_type": "markdown",
   "metadata": {},
   "source": [
    "### Visualization"
   ]
  },
  {
   "cell_type": "code",
   "execution_count": 602,
   "metadata": {
    "collapsed": false,
    "scrolled": true
   },
   "outputs": [
    {
     "data": {
      "image/png": "[encoded data removed]",
      "text/plain": [
       "<matplotlib.figure.Figure at 0x10e7653c8>"
      ]
     },
     "metadata": {},
     "output_type": "display_data"
    }
   ],
   "source": [
    "pos = X[np.where(y==1)]\n",
    "neg = X[np.where(y==0)]\n",
    "plt.scatter(pos[:,1], pos[:,2], marker='x')\n",
    "plt.scatter(neg[:,1], neg[:,2], c='yellow', marker='o')\n",
    "dx = np.linspace(min(X[:,1]), max(X[:,1]), 1000)\n",
    "dy = np.linspace(min(X[:,2]), max(X[:,2]), 1000)\n",
    "dx, dy = np.meshgrid(dx,dy)\n",
    "F = thetaOptReg[0] + thetaOptReg[1]*dx + thetaOptReg[2]*dy + thetaOptReg[3]*(dx**2) \n",
    "plt.contour(dx,dy,F,[0])\n",
    "plt.show()"
   ]
  },
  {
   "cell_type": "code",
   "execution_count": 603,
   "metadata": {
    "collapsed": false
   },
   "outputs": [
    {
     "data": {
      "text/plain": [
       "(1000, 1000)"
      ]
     },
     "execution_count": 603,
     "metadata": {},
     "output_type": "execute_result"
    }
   ],
   "source": [
    "F.shape"
   ]
  },
  {
   "cell_type": "code",
   "execution_count": 604,
   "metadata": {
    "collapsed": false
   },
   "outputs": [
    {
     "data": {
      "text/plain": [
       "(1000, 1000)"
      ]
     },
     "execution_count": 604,
     "metadata": {},
     "output_type": "execute_result"
    }
   ],
   "source": [
    "dx.shape"
   ]
  },
  {
   "cell_type": "code",
   "execution_count": null,
   "metadata": {
    "collapsed": true
   },
   "outputs": [],
   "source": []
  }
 ],
 "metadata": {
  "anaconda-cloud": {},
  "kernelspec": {
   "display_name": "Python [conda root]",
   "language": "python",
   "name": "conda-root-py"
  },
  "language_info": {
   "codemirror_mode": {
    "name": "ipython",
    "version": 3
   },
   "file_extension": ".py",
   "mimetype": "text/x-python",
   "name": "python",
   "nbconvert_exporter": "python",
   "pygments_lexer": "ipython3",
   "version": "3.4.5"
  }
 },
 "nbformat": 4,
 "nbformat_minor": 1
}
